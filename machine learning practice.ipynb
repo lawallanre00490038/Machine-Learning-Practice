{
 "cells": [
  {
   "cell_type": "code",
   "execution_count": 22,
   "id": "684b08d5",
   "metadata": {},
   "outputs": [],
   "source": [
    "import numpy as np, math\n",
    "import pandas as pd\n",
    "import matplotlib.pyplot as plt"
   ]
  },
  {
   "cell_type": "code",
   "execution_count": 2,
   "id": "a529e42f",
   "metadata": {},
   "outputs": [],
   "source": [
    "new_train = pd.read_csv('train.csv')\n",
    "points = np.array(new_train.iloc[0:10, 4:6])\n"
   ]
  },
  {
   "cell_type": "code",
   "execution_count": 3,
   "id": "6224704d",
   "metadata": {},
   "outputs": [
    {
     "data": {
      "text/plain": [
       "array([[  3. , 237. ],\n",
       "       [  7.3, 255. ],\n",
       "       [  7.8, 263. ],\n",
       "       [  8.5, 320. ],\n",
       "       [ 26.9, 220. ],\n",
       "       [  5.3, 258. ],\n",
       "       [  3.8,  35. ],\n",
       "       [ 13.8, 286. ],\n",
       "       [ 19.4,  87. ],\n",
       "       [ 15.5, 389. ]])"
      ]
     },
     "execution_count": 3,
     "metadata": {},
     "output_type": "execute_result"
    }
   ],
   "source": [
    "points"
   ]
  },
  {
   "cell_type": "code",
   "execution_count": 4,
   "id": "e7d78255",
   "metadata": {},
   "outputs": [
    {
     "data": {
      "text/plain": [
       "array([[ 1. ,  3. ],\n",
       "       [ 1. ,  7.3],\n",
       "       [ 1. ,  7.8],\n",
       "       [ 1. ,  8.5],\n",
       "       [ 1. , 26.9],\n",
       "       [ 1. ,  5.3],\n",
       "       [ 1. ,  3.8],\n",
       "       [ 1. , 13.8],\n",
       "       [ 1. , 19.4],\n",
       "       [ 1. , 15.5]])"
      ]
     },
     "execution_count": 4,
     "metadata": {},
     "output_type": "execute_result"
    }
   ],
   "source": [
    "theta = np.zeros((2,0))\n",
    "new_x = np.delete(points, np.s_[1:], axis =1)\n",
    "X = np.insert(new_x, 0,1, axis =1)\n",
    "X"
   ]
  },
  {
   "cell_type": "code",
   "execution_count": 5,
   "id": "187266d5",
   "metadata": {},
   "outputs": [],
   "source": [
    "learning_rate = 0.01\n",
    "intial_m = 0\n",
    "initial_b = 0\n",
    "iteration = 1500\n",
    "m = len(points)"
   ]
  },
  {
   "cell_type": "code",
   "execution_count": 6,
   "id": "910d2eea",
   "metadata": {},
   "outputs": [
    {
     "data": {
      "text/plain": [
       "array([[237.],\n",
       "       [255.],\n",
       "       [263.],\n",
       "       [320.],\n",
       "       [220.],\n",
       "       [258.],\n",
       "       [ 35.],\n",
       "       [286.],\n",
       "       [ 87.],\n",
       "       [389.]])"
      ]
     },
     "execution_count": 6,
     "metadata": {},
     "output_type": "execute_result"
    }
   ],
   "source": [
    "y = np.delete(points, np.s_[:1], axis =1)\n",
    "y"
   ]
  },
  {
   "cell_type": "code",
   "execution_count": 7,
   "id": "16c28b51",
   "metadata": {},
   "outputs": [
    {
     "data": {
      "text/plain": [
       "0.0"
      ]
     },
     "execution_count": 7,
     "metadata": {},
     "output_type": "execute_result"
    }
   ],
   "source": [
    "next = 1/(2*m)*np.sum(np.power(np.subtract(np.dot(X, theta),y),2))\n",
    "next"
   ]
  },
  {
   "cell_type": "markdown",
   "id": "78a60021",
   "metadata": {},
   "source": [
    "#### Updating the theta value"
   ]
  },
  {
   "cell_type": "code",
   "execution_count": 8,
   "id": "3b02adf5",
   "metadata": {},
   "outputs": [
    {
     "data": {
      "text/plain": [
       "27763.574"
      ]
     },
     "execution_count": 8,
     "metadata": {},
     "output_type": "execute_result"
    }
   ],
   "source": [
    "# cost_function\n",
    "theta_sec = np.array([[-1], [2]])\n",
    "m = len(points)\n",
    "nextout = 1/(2*m)*np.sum(np.power(np.subtract(np.dot(X, theta_sec),y),2))\n",
    "nextout"
   ]
  },
  {
   "cell_type": "markdown",
   "id": "31069e0e",
   "metadata": {},
   "source": [
    "#### Gradient Descent"
   ]
  },
  {
   "cell_type": "code",
   "execution_count": 9,
   "id": "c2df7ad7",
   "metadata": {},
   "outputs": [],
   "source": [
    "cost_hist = np.zeros(iteration)\n",
    "theta_hist = np.zeros((iteration, 2))\n",
    "theta_sec = np.zeros((2, 1))"
   ]
  },
  {
   "cell_type": "code",
   "execution_count": 10,
   "id": "e291242e",
   "metadata": {},
   "outputs": [
    {
     "data": {
      "text/plain": [
       "array([[  2.35      ,  26.4264    ],\n",
       "       [  1.73524168,   5.85430675],\n",
       "       [  3.41630492,  21.73382306],\n",
       "       ...,\n",
       "       [226.71149769,   0.67506453],\n",
       "       [226.71924803,   0.67457596],\n",
       "       [226.72697525,   0.67408885]])"
      ]
     },
     "execution_count": 10,
     "metadata": {},
     "output_type": "execute_result"
    }
   ],
   "source": [
    "for iter in range(iteration):\n",
    "    prediction = np.dot(X, theta_sec)\n",
    "    theta_sec = theta_sec - (1/m)*learning_rate*(X.T.dot((prediction -y)))  #gradient descent\n",
    "    theta_hist[iter,:] = theta_sec.T\n",
    "    tempcost = 1/(2*m)*np.sum(np.power(np.subtract(np.dot(X, theta_sec),y),2)) #leanring rate\n",
    "    cost_hist[iter] = tempcost\n",
    "theta_hist"
   ]
  },
  {
   "cell_type": "code",
   "execution_count": 11,
   "id": "f9f7c767",
   "metadata": {},
   "outputs": [
    {
     "data": {
      "text/plain": [
       "Text(0, 0.5, 'J (theta)')"
      ]
     },
     "execution_count": 11,
     "metadata": {},
     "output_type": "execute_result"
    },
    {
     "data": {
      "image/png": "[encoded data removed]",
      "text/plain": [
       "<Figure size 432x288 with 1 Axes>"
      ]
     },
     "metadata": {
      "needs_background": "light"
     },
     "output_type": "display_data"
    }
   ],
   "source": [
    "plt.plot(np.arange(iteration), cost_hist, 'r', 5)\n",
    "plt.xlabel('Iteration')\n",
    "plt.ylabel('J (theta)')"
   ]
  },
  {
   "cell_type": "code",
   "execution_count": 12,
   "id": "743c52b3",
   "metadata": {},
   "outputs": [
    {
     "data": {
      "text/plain": [
       "(array([4863.59274905, 4863.58608344, 4863.57945754, 4863.57287112,\n",
       "        4863.56632395, 4863.55981579, 4863.55334641, 4863.54691558,\n",
       "        4863.54052307, 4863.53416866, 4863.5278521 , 4863.52157319,\n",
       "        4863.51533169, 4863.50912738, 4863.50296004, 4863.49682944,\n",
       "        4863.49073538, 4863.48467764, 4863.47865599]),\n",
       " 24542.59650504736)"
      ]
     },
     "execution_count": 12,
     "metadata": {},
     "output_type": "execute_result"
    }
   ],
   "source": [
    "cost_hist[1480:-1], cost_hist[0]"
   ]
  },
  {
   "cell_type": "code",
   "execution_count": 13,
   "id": "fab825e7",
   "metadata": {},
   "outputs": [
    {
     "data": {
      "text/plain": [
       "array([[ 0,  1,  2,  3,  4],\n",
       "       [ 5,  6,  7,  8,  9],\n",
       "       [10, 11, 12, 13, 14],\n",
       "       [15, 16, 17, 18, 19]])"
      ]
     },
     "execution_count": 13,
     "metadata": {},
     "output_type": "execute_result"
    }
   ],
   "source": [
    "mat = np.arange(20).reshape((4,5))\n",
    "mat"
   ]
  },
  {
   "cell_type": "code",
   "execution_count": 14,
   "id": "8bf821c7",
   "metadata": {},
   "outputs": [
    {
     "data": {
      "text/plain": [
       "array([[12],\n",
       "       [10],\n",
       "       [ 8],\n",
       "       [ 8]])"
      ]
     },
     "execution_count": 14,
     "metadata": {},
     "output_type": "execute_result"
    }
   ],
   "source": [
    "maty= np.random.randint(6, 15, 4).reshape((4,1))\n",
    "maty"
   ]
  },
  {
   "cell_type": "code",
   "execution_count": 15,
   "id": "45abe49a",
   "metadata": {},
   "outputs": [
    {
     "data": {
      "text/plain": [
       "array([[-1.  ],\n",
       "       [-0.25],\n",
       "       [ 0.5 ],\n",
       "       [ 1.25],\n",
       "       [ 2.  ]])"
      ]
     },
     "execution_count": 15,
     "metadata": {},
     "output_type": "execute_result"
    }
   ],
   "source": [
    "theta_ = np.linspace(-1, 2, 5).reshape(5,1)\n",
    "theta_"
   ]
  },
  {
   "cell_type": "code",
   "execution_count": 16,
   "id": "1a05f1b0",
   "metadata": {},
   "outputs": [
    {
     "data": {
      "text/plain": [
       "array([[12.5],\n",
       "       [25. ],\n",
       "       [37.5],\n",
       "       [50. ]])"
      ]
     },
     "execution_count": 16,
     "metadata": {},
     "output_type": "execute_result"
    }
   ],
   "source": [
    "dot_ans = np.dot(mat,theta_)\n",
    "dot_ans"
   ]
  },
  {
   "cell_type": "code",
   "execution_count": 17,
   "id": "770f40d5",
   "metadata": {},
   "outputs": [
    {
     "data": {
      "text/plain": [
       "array([[2.5000e-01],\n",
       "       [2.2500e+02],\n",
       "       [8.7025e+02],\n",
       "       [1.7640e+03]])"
      ]
     },
     "execution_count": 17,
     "metadata": {},
     "output_type": "execute_result"
    }
   ],
   "source": [
    "(maty - dot_ans)**2"
   ]
  },
  {
   "cell_type": "code",
   "execution_count": 18,
   "id": "9d226856",
   "metadata": {},
   "outputs": [],
   "source": [
    "data = pd.read_csv('https://s3-eu-west-1.amazonaws.com/shanebucket/downloads/uk-500.csv')"
   ]
  },
  {
   "cell_type": "code",
   "execution_count": 19,
   "id": "cb3a9e6d",
   "metadata": {},
   "outputs": [],
   "source": [
    "data['id'] = np.random.randint(0,1000, 500)\n",
    "data.columns = data.columns.str.upper()"
   ]
  },
  {
   "cell_type": "code",
   "execution_count": 20,
   "id": "fb87c4db",
   "metadata": {},
   "outputs": [
    {
     "data": {
      "text/html": [
       "<div>\n",
       "<style scoped>\n",
       "    .dataframe tbody tr th:only-of-type {\n",
       "        vertical-align: middle;\n",
       "    }\n",
       "\n",
       "    .dataframe tbody tr th {\n",
       "        vertical-align: top;\n",
       "    }\n",
       "\n",
       "    .dataframe thead th {\n",
       "        text-align: right;\n",
       "    }\n",
       "</style>\n",
       "<table border=\"1\" class=\"dataframe\">\n",
       "  <thead>\n",
       "    <tr style=\"text-align: right;\">\n",
       "      <th></th>\n",
       "      <th>FIRST_NAME</th>\n",
       "      <th>LAST_NAME</th>\n",
       "      <th>COMPANY_NAME</th>\n",
       "      <th>ADDRESS</th>\n",
       "      <th>CITY</th>\n",
       "      <th>COUNTY</th>\n",
       "      <th>POSTAL</th>\n",
       "      <th>PHONE1</th>\n",
       "      <th>PHONE2</th>\n",
       "      <th>EMAIL</th>\n",
       "      <th>WEB</th>\n",
       "      <th>ID</th>\n",
       "    </tr>\n",
       "  </thead>\n",
       "  <tbody>\n",
       "    <tr>\n",
       "      <th>0</th>\n",
       "      <td>Aleshia</td>\n",
       "      <td>Tomkiewicz</td>\n",
       "      <td>Alan D Rosenburg Cpa Pc</td>\n",
       "      <td>14 Taylor St</td>\n",
       "      <td>St. Stephens Ward</td>\n",
       "      <td>Kent</td>\n",
       "      <td>CT2 7PP</td>\n",
       "      <td>01835-703597</td>\n",
       "      <td>01944-369967</td>\n",
       "      <td>atomkiewicz@hotmail.com</td>\n",
       "      <td>http://www.alandrosenburgcpapc.co.uk</td>\n",
       "      <td>420</td>\n",
       "    </tr>\n",
       "    <tr>\n",
       "      <th>1</th>\n",
       "      <td>Evan</td>\n",
       "      <td>Zigomalas</td>\n",
       "      <td>Cap Gemini America</td>\n",
       "      <td>5 Binney St</td>\n",
       "      <td>Abbey Ward</td>\n",
       "      <td>Buckinghamshire</td>\n",
       "      <td>HP11 2AX</td>\n",
       "      <td>01937-864715</td>\n",
       "      <td>01714-737668</td>\n",
       "      <td>evan.zigomalas@gmail.com</td>\n",
       "      <td>http://www.capgeminiamerica.co.uk</td>\n",
       "      <td>288</td>\n",
       "    </tr>\n",
       "  </tbody>\n",
       "</table>\n",
       "</div>"
      ],
      "text/plain": [
       "  FIRST_NAME   LAST_NAME             COMPANY_NAME       ADDRESS  \\\n",
       "0    Aleshia  Tomkiewicz  Alan D Rosenburg Cpa Pc  14 Taylor St   \n",
       "1       Evan   Zigomalas       Cap Gemini America   5 Binney St   \n",
       "\n",
       "                CITY           COUNTY    POSTAL        PHONE1        PHONE2  \\\n",
       "0  St. Stephens Ward             Kent   CT2 7PP  01835-703597  01944-369967   \n",
       "1         Abbey Ward  Buckinghamshire  HP11 2AX  01937-864715  01714-737668   \n",
       "\n",
       "                      EMAIL                                   WEB   ID  \n",
       "0   atomkiewicz@hotmail.com  http://www.alandrosenburgcpapc.co.uk  420  \n",
       "1  evan.zigomalas@gmail.com     http://www.capgeminiamerica.co.uk  288  "
      ]
     },
     "execution_count": 20,
     "metadata": {},
     "output_type": "execute_result"
    }
   ],
   "source": [
    "data.rename({'COUN': 'COUNTRY'}, axis = 1,inplace = True)\n",
    "data.head(2)"
   ]
  },
  {
   "cell_type": "code",
   "execution_count": null,
   "id": "87bd96c2",
   "metadata": {},
   "outputs": [],
   "source": []
  },
  {
   "cell_type": "code",
   "execution_count": null,
   "id": "52b04274",
   "metadata": {},
   "outputs": [],
   "source": []
  },
  {
   "cell_type": "code",
   "execution_count": null,
   "id": "87e40816",
   "metadata": {},
   "outputs": [],
   "source": []
  },
  {
   "cell_type": "code",
   "execution_count": null,
   "id": "7146e295",
   "metadata": {},
   "outputs": [],
   "source": []
  },
  {
   "cell_type": "code",
   "execution_count": null,
   "id": "f1771738",
   "metadata": {},
   "outputs": [],
   "source": []
  },
  {
   "cell_type": "code",
   "execution_count": null,
   "id": "1e7762bf",
   "metadata": {},
   "outputs": [],
   "source": []
  },
  {
   "cell_type": "code",
   "execution_count": null,
   "id": "f11bd91f",
   "metadata": {},
   "outputs": [],
   "source": []
  }
 ],
 "metadata": {
  "kernelspec": {
   "display_name": "Python 3",
   "language": "python",
   "name": "python3"
  },
  "language_info": {
   "codemirror_mode": {
    "name": "ipython",
    "version": 3
   },
   "file_extension": ".py",
   "mimetype": "text/x-python",
   "name": "python",
   "nbconvert_exporter": "python",
   "pygments_lexer": "ipython3",
   "version": "3.8.8"
  }
 },
 "nbformat": 4,
 "nbformat_minor": 5
}
